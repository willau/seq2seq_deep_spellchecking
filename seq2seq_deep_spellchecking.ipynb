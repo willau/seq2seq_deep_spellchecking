{
 "cells": [
  {
   "cell_type": "markdown",
   "metadata": {},
   "source": [
    "### Loading modules"
   ]
  },
  {
   "cell_type": "code",
   "execution_count": 1,
   "metadata": {
    "collapsed": true
   },
   "outputs": [],
   "source": [
    "import re\n",
    "import os\n",
    "import numpy as np\n",
    "from numpy.random import rand, randint, choice, shuffle\n",
    "from tqdm import tqdm_notebook"
   ]
  },
  {
   "cell_type": "markdown",
   "metadata": {},
   "source": [
    "### Loading parameters"
   ]
  },
  {
   "cell_type": "code",
   "execution_count": 2,
   "metadata": {},
   "outputs": [],
   "source": [
    "# parameters\n",
    "FILEPATH = \"./data/news.2011.en.shuffled\"\n",
    "CLEAN_FILEPATH = \"./data/news.2011.en.cleaned\"\n",
    "N_LINES = 2466169\n",
    "CHARS = list(\"abcdefghijklmnopqrstuvwxyz .-()\")\n",
    "MAX_INPUT_LEN = 40\n",
    "MIN_INPUT_LEN = 3\n",
    "AMOUNT_OF_NOISE = 0.3 / MAX_INPUT_LEN\n",
    "\n",
    "# regex cleanup\n",
    "RE_DASH_FILTER = re.compile(r'[\\-\\˗\\֊\\‐\\‑\\‒\\–\\—\\⁻\\₋\\−\\﹣\\－]', re.UNICODE)\n",
    "NORMALIZE_WHITESPACE_REGEX = re.compile(r'[^\\S\\n]+', re.UNICODE)\n",
    "RE_APOSTROPHE_FILTER = re.compile(r'&#39;|[ʼ՚＇‘’‛❛❜ߴߵ`‵´ˊˋ{}{}{}{}{}{}{}{}{}]'.\n",
    "                                  format ( \n",
    "                                      chr(768), chr(769), chr(832), \n",
    "                                      chr(833), chr(2387), chr(5151), \n",
    "                                      chr(5152), chr(65344), chr(8242)\n",
    "                                  ), re.UNICODE)\n",
    "RE_LEFT_PARENTH_FILTER = re.compile(r'[\\(\\[\\{\\⁽\\₍\\❨\\❪\\﹙\\（]', re.UNICODE)\n",
    "RE_RIGHT_PARENTH_FILTER = re.compile(r'[\\)\\]\\}\\⁾\\₎\\❩\\❫\\﹚\\）]', re.UNICODE)\n",
    "RE_BASIC_CLEANER = re.compile(r'[^\\w\\s\\-\\)\\(]', re.UNICODE)"
   ]
  },
  {
   "cell_type": "markdown",
   "metadata": {},
   "source": [
    "### Loading and cleaning data"
   ]
  },
  {
   "cell_type": "code",
   "execution_count": 3,
   "metadata": {
    "collapsed": true
   },
   "outputs": [],
   "source": [
    "def clean_text(txt):\n",
    "    txt = NORMALIZE_WHITESPACE_REGEX.sub(' ', txt)\n",
    "    txt = RE_DASH_FILTER.sub('-', txt)\n",
    "    txt = RE_APOSTROPHE_FILTER.sub(' ', txt)\n",
    "    txt = RE_LEFT_PARENTH_FILTER.sub('(', txt)\n",
    "    txt = RE_RIGHT_PARENTH_FILTER.sub(')', txt)\n",
    "    txt = RE_BASIC_CLEANER.sub('', txt)\n",
    "    txt = \"\".join(char for char in txt if char in CHARS)\n",
    "    return txt"
   ]
  },
  {
   "cell_type": "code",
   "execution_count": 4,
   "metadata": {},
   "outputs": [
    {
     "data": {
      "text/plain": [
       "'lfjjljsfdfd'"
      ]
     },
     "execution_count": 4,
     "metadata": {},
     "output_type": "execute_result"
    }
   ],
   "source": [
    "RE_BASIC_CLEANER.sub('', 'lfjj\"ljsfdfd')"
   ]
  },
  {
   "cell_type": "code",
   "execution_count": 5,
   "metadata": {},
   "outputs": [
    {
     "name": "stdout",
     "output_type": "stream",
     "text": [
      "loading pre-cleaned file\n",
      "total: 2454669 lines\n",
      "max length: 9818 char\n",
      "Wall time: 2.9 s\n"
     ]
    }
   ],
   "source": [
    "%%time\n",
    "\n",
    "i = 0\n",
    "length = 0\n",
    "lines = list()\n",
    "\n",
    "if os.path.isfile(CLEAN_FILEPATH):\n",
    "    print(\"loading pre-cleaned file\")\n",
    "    with open(CLEAN_FILEPATH, 'r', encoding='utf-8') as f:\n",
    "        for s in f:\n",
    "            lines.append(s.rstrip('\\n'))\n",
    "            i += 1\n",
    "            new_len = len(s)\n",
    "            if new_len > length:\n",
    "                length = new_len\n",
    "else:\n",
    "    print(\"loading and cleaning text\")\n",
    "    with open(FILEPATH, 'r', encoding='utf-8') as f:\n",
    "        for s in tqdm_notebook(f, total=N_LINES):\n",
    "            line = clean_text(s.lower()).strip('\\n')\n",
    "            if line != '':\n",
    "                lines.append(line)\n",
    "                i += 1\n",
    "                new_len = len(s)\n",
    "                if new_len > length:\n",
    "                    length = new_len\n",
    "\n",
    "    with open(CLEAN_FILEPATH, 'w', encoding='utf-8') as f:\n",
    "        for line in lines:\n",
    "            f.write(line + '\\n')\n",
    "\n",
    "n_lines = i\n",
    "print(\"total: %d lines\" % n_lines)\n",
    "print(\"max length: %d char\" % length)"
   ]
  },
  {
   "cell_type": "markdown",
   "metadata": {},
   "source": [
    "### Generating mispelled sentence"
   ]
  },
  {
   "cell_type": "code",
   "execution_count": 6,
   "metadata": {
    "collapsed": true
   },
   "outputs": [],
   "source": [
    "def add_noise_to_string(a_string, amount_of_noise):\n",
    "    \n",
    "    length = len(a_string)\n",
    "    threshold = amount_of_noise * length\n",
    "    \n",
    "    if rand() < threshold:\n",
    "        # replace a character with a random character\n",
    "        rdm_char_pos = randint(length)\n",
    "        a_string = a_string[:rdm_char_pos] + choice(CHARS[:-1]) + a_string[rdm_char_pos + 1:]\n",
    "        \n",
    "    if rand() < threshold:\n",
    "        # delete a character\n",
    "        rdm_char_pos = randint(length)\n",
    "        a_string = a_string[:rdm_char_pos] + a_string[rdm_char_pos + 1:]\n",
    "        \n",
    "    if length < MAX_INPUT_LEN and rand() < threshold:\n",
    "        # add a random character\n",
    "        rdm_char_pos = randint(length)\n",
    "        a_string = a_string[:rdm_char_pos] + choice(CHARS[:-1]) + a_string[rdm_char_pos:]\n",
    "        \n",
    "    if rand() < threshold:\n",
    "        # transpose 2 characters\n",
    "        rdm_char_pos = randint(length - 2)\n",
    "        a_string = (a_string[:rdm_char_pos] +\n",
    "                    a_string[rdm_char_pos + 1] +\n",
    "                    a_string[rdm_char_pos] +\n",
    "                    a_string[rdm_char_pos + 2:])\n",
    "        \n",
    "    if rand() < threshold:\n",
    "        # delete space\n",
    "        spaces_pos = [pos for pos, char in enumerate(a_string) if char == \" \"]\n",
    "        if len(spaces_pos) != 0:\n",
    "            rdm_space_pos = choice(spaces_pos)\n",
    "            a_string = a_string[:rdm_space_pos] + a_string[rdm_space_pos + 1:]\n",
    "        \n",
    "    return a_string\n",
    "\n",
    "\n",
    "def generate_examples(corpus, inverted=True):\n",
    "    \n",
    "    sources, targets = list(), list()\n",
    "    \n",
    "    while corpus:\n",
    "        line = corpus.pop()\n",
    "        \n",
    "        while len(line) > MIN_INPUT_LEN:\n",
    "            if len(line) <= MAX_INPUT_LEN:\n",
    "                target = line\n",
    "                line = \"\"\n",
    "            else:\n",
    "                space_pos = line.rfind(\" \", MIN_INPUT_LEN, MAX_INPUT_LEN - 1)\n",
    "                if space_pos > -1:\n",
    "                    target = line[:space_pos]\n",
    "                    line = line[space_pos + 1:]\n",
    "                else:\n",
    "                    space_pos = line.rfind(\" \")\n",
    "                    if space_pos == -1:\n",
    "                        break\n",
    "                    else:\n",
    "                        line = line[space_pos + 1:]\n",
    "                        continue\n",
    "            targets.append(target)\n",
    "    \n",
    "    for target_idx, target in enumerate(targets):\n",
    "        source = add_noise_to_string(target, AMOUNT_OF_NOISE)\n",
    "        source += \".\" * (MAX_INPUT_LEN - len(source))\n",
    "        target += \".\" * (MAX_INPUT_LEN - len(target))\n",
    "        targets[target_idx] = target\n",
    "        source = source[::-1] if inverted else source\n",
    "        sources.append(source)\n",
    "        \n",
    "    return sources, targets"
   ]
  },
  {
   "cell_type": "code",
   "execution_count": 7,
   "metadata": {},
   "outputs": [
    {
     "name": "stdout",
     "output_type": "stream",
     "text": [
      "Wall time: 1min 41s\n"
     ]
    }
   ],
   "source": [
    "%%time\n",
    "corpus = lines.copy()\n",
    "sources, targets = generate_examples(corpus, inverted=False)"
   ]
  },
  {
   "cell_type": "code",
   "execution_count": 10,
   "metadata": {},
   "outputs": [
    {
     "name": "stdout",
     "output_type": "stream",
     "text": [
      "bputi s reallyjust a modern-day way to..\n",
      "but is really just a modern-day way to..\n"
     ]
    }
   ],
   "source": [
    "rd_idx = randint(0, len(sources))\n",
    "print(sources[rd_idx])\n",
    "print(targets[rd_idx])"
   ]
  },
  {
   "cell_type": "markdown",
   "metadata": {},
   "source": [
    "### Encoding character into vectors"
   ]
  },
  {
   "cell_type": "code",
   "execution_count": 9,
   "metadata": {
    "collapsed": true
   },
   "outputs": [],
   "source": [
    "class CharacterTable(object):\n",
    "    \"\"\"\n",
    "    Given a set of characters:\n",
    "    + Encode them to a one hot integer representation\n",
    "    + Decode the one hot integer representation to their character output\n",
    "    + Decode a vector of probabilities to their character output\n",
    "    \"\"\"\n",
    "\n",
    "    def __init__(self, chars):\n",
    "        self.chars = sorted(set(chars))\n",
    "        self.char_indices = dict((c, i) for i, c in enumerate(self.chars))\n",
    "        self.indices_char = dict((i, c) for i, c in enumerate(self.chars))\n",
    "        self.size = len(self.chars)\n",
    "\n",
    "    def encode(self, C, maxlen):\n",
    "        \"\"\"Encode as one-hot\"\"\"\n",
    "        X = np_zeros((maxlen, len(self.chars)), dtype=np.bool)  # pylint:disable=no-member\n",
    "        for i, c in enumerate(C):\n",
    "            X[i, self.char_indices[c]] = 1\n",
    "        return X\n",
    "\n",
    "    def decode(self, X, calc_argmax=True):\n",
    "        \"\"\"Decode from one-hot\"\"\"\n",
    "        if calc_argmax:\n",
    "            X = X.argmax(axis=-1)\n",
    "        return ''.join(self.indices_char[x] for x in X)"
   ]
  }
 ],
 "metadata": {
  "kernelspec": {
   "display_name": "Python 3",
   "language": "python",
   "name": "python3"
  },
  "language_info": {
   "codemirror_mode": {
    "name": "ipython",
    "version": 3
   },
   "file_extension": ".py",
   "mimetype": "text/x-python",
   "name": "python",
   "nbconvert_exporter": "python",
   "pygments_lexer": "ipython3",
   "version": "3.6.0"
  }
 },
 "nbformat": 4,
 "nbformat_minor": 2
}
