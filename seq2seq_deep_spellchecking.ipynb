{
 "cells": [
  {
   "cell_type": "code",
   "execution_count": 57,
   "metadata": {
    "collapsed": true
   },
   "outputs": [],
   "source": [
    "import re\n",
    "import numpy as np\n",
    "from numpy.random import rand, randint, choice, shuffle\n",
    "from tqdm import tqdm_notebook"
   ]
  },
  {
   "cell_type": "markdown",
   "metadata": {},
   "source": [
    "### Loading files"
   ]
  },
  {
   "cell_type": "code",
   "execution_count": 224,
   "metadata": {
    "collapsed": true
   },
   "outputs": [],
   "source": [
    "# parameters\n",
    "FILEPATH = \"../../02_data/05_google_1billion_word/training-monolingual/news.2011.en.shuffled\"\n",
    "N_LINES = 2466169\n",
    "CHARS = list(\"abcdefghijklmnopqrstuvwxyz .\")\n",
    "MAX_INPUT_LEN = 40\n",
    "MIN_INPUT_LEN = 3\n",
    "AMOUNT_OF_NOISE = 0.5 / MAX_INPUT_LEN\n",
    "\n",
    "# regex cleanup\n",
    "RE_DASH_FILTER = re.compile(r'[\\-\\˗\\֊\\‐\\‑\\‒\\–\\—\\⁻\\₋\\−\\﹣\\－]', re.UNICODE)\n",
    "NORMALIZE_WHITESPACE_REGEX = re.compile(r'[^\\S\\n]+', re.UNICODE)\n",
    "RE_APOSTROPHE_FILTER = re.compile(r'&#39;|[ʼ՚＇‘’‛❛❜ߴߵ`‵´ˊˋ{}{}{}{}{}{}{}{}{}]'.\n",
    "                                  format ( \n",
    "                                      chr(768), chr(769), chr(832), \n",
    "                                      chr(833), chr(2387), chr(5151), \n",
    "                                      chr(5152), chr(65344), chr(8242)\n",
    "                                  ), re.UNICODE)\n",
    "RE_LEFT_PARENTH_FILTER = re.compile(r'[\\(\\[\\{\\⁽\\₍\\❨\\❪\\﹙\\（]', re.UNICODE)\n",
    "RE_RIGHT_PARENTH_FILTER = re.compile(r'[\\)\\]\\}\\⁾\\₎\\❩\\❫\\﹚\\）]', re.UNICODE)\n",
    "RE_BASIC_CLEANER = re.compile(r'[^\\w\\s]', re.UNICODE)"
   ]
  },
  {
   "cell_type": "markdown",
   "metadata": {},
   "source": [
    "### Loading and cleaning data"
   ]
  },
  {
   "cell_type": "code",
   "execution_count": 225,
   "metadata": {
    "collapsed": true
   },
   "outputs": [],
   "source": [
    "def clean_string(txt):\n",
    "    txt = NORMALIZE_WHITESPACE_REGEX.sub(' ', txt)\n",
    "    txt = RE_DASH_FILTER.sub('-', txt)\n",
    "    txt = RE_APOSTROPHE_FILTER.sub(' ', txt)\n",
    "    txt = RE_LEFT_PARENTH_FILTER.sub('(', txt)\n",
    "    txt = RE_RIGHT_PARENTH_FILTER.sub(')', txt)\n",
    "    txt = RE_BASIC_CLEANER.sub('', txt)\n",
    "    return txt"
   ]
  },
  {
   "cell_type": "code",
   "execution_count": 167,
   "metadata": {},
   "outputs": [
    {
     "name": "stdout",
     "output_type": "stream",
     "text": [
      "\n",
      "total: 2466169 lines\n",
      "max length: 10118 char\n",
      "Wall time: 4.76 s\n"
     ]
    }
   ],
   "source": [
    "%%time\n",
    "\n",
    "# loading files\n",
    "with open(FILEPATH, 'r', encoding='utf-8') as f:\n",
    "    lines = list()\n",
    "    i = 0\n",
    "    length = 0\n",
    "    for s in tqdm_notebook(f, total=N_LINES):\n",
    "        lines.append(s.lower())\n",
    "        new_length = len(s)\n",
    "        if new_length > length:\n",
    "            length = new_length\n",
    "        i += 1\n",
    "    n_lines = i\n",
    "    print(\"total: %d lines\" % n_lines)\n",
    "    print(\"max length: %d char\" % length)"
   ]
  },
  {
   "cell_type": "markdown",
   "metadata": {},
   "source": [
    "### Generating mispelled sentence"
   ]
  },
  {
   "cell_type": "code",
   "execution_count": 207,
   "metadata": {},
   "outputs": [],
   "source": [
    "def add_noise_to_string(a_string, amount_of_noise):\n",
    "    \"\"\" Add some common spelling mistakes to a string \"\"\"\n",
    "    \n",
    "    length = len(a_string)\n",
    "    threshold = amount_of_noise * length\n",
    "    \n",
    "    if rand() < threshold:\n",
    "        # replace a character with a random character\n",
    "        rdm_char_pos = randint(length)\n",
    "        a_string = a_string[:rdm_char_pos] + choice(CHARS[:-1]) + a_string[rdm_char_pos + 1:]\n",
    "        \n",
    "    if rand() < threshold:\n",
    "        # delete a character\n",
    "        rdm_char_pos = randint(length)\n",
    "        a_string = a_string[:rdm_char_pos] + a_string[rdm_char_pos + 1:]\n",
    "        \n",
    "    if length < MAX_INPUT_LEN and rand() < threshold:\n",
    "        # add a random character\n",
    "        rdm_char_pos = randint(length)\n",
    "        a_string = a_string[:rdm_char_pos] + choice(CHARS[:-1]) + a_string[rdm_char_pos:]\n",
    "        \n",
    "    if rand() < threshold:\n",
    "        # transpose 2 characters\n",
    "        rdm_char_pos = randint(length - 1)\n",
    "        a_string = (a_string[:rdm_char_pos] +\n",
    "                    a_string[rdm_char_pos + 1] +\n",
    "                    a_string[rdm_char_pos] +\n",
    "                    a_string[rdm_char_pos + 2:])\n",
    "        \n",
    "    if rand() < threshold:\n",
    "        # delete space\n",
    "        space_pos = [pos for pos, char in enumerate(a_string) if char == \" \"]\n",
    "        rdm_space_pos = choice(space_pos)\n",
    "        a_string = a_string[:rdm_space_pos] + a_string[rdm_space_pos + 1:]\n",
    "        \n",
    "    return a_string"
   ]
  }
 ],
 "metadata": {
  "kernelspec": {
   "display_name": "Python 3",
   "language": "python",
   "name": "python3"
  },
  "language_info": {
   "codemirror_mode": {
    "name": "ipython",
    "version": 3
   },
   "file_extension": ".py",
   "mimetype": "text/x-python",
   "name": "python",
   "nbconvert_exporter": "python",
   "pygments_lexer": "ipython3",
   "version": "3.6.0"
  },
  "widgets": {
   "state": {
    "9e267b6166314644991407a99816b816": {
     "views": [
      {
       "cell_index": 3
      }
     ]
    }
   },
   "version": "1.2.0"
  }
 },
 "nbformat": 4,
 "nbformat_minor": 2
}
